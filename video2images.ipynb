{
 "cells": [
  {
   "cell_type": "code",
   "execution_count": null,
   "id": "2979dcb8",
   "metadata": {},
   "outputs": [],
   "source": [
    "# pip install opencv-python\n",
    "import cv2\n",
    "\n",
    "def video2images(filename,out_directory):\n",
    "    \"\"\"\n",
    "    video slice to each frames and save into out_directory\n",
    "    no retouching just extract images\n",
    "    \n",
    "    Parameters\n",
    "    ----------\n",
    "    filename : str\n",
    "        if file isn't exist workspace, put whole file path including file name and it's extension\n",
    "    out_directory : str\n",
    "        out directory path, should be folder not file\n",
    "    \"\"\"\n",
    "    try:\n",
    "        '''\n",
    "        # cv2.VideoCapture method\n",
    "        cv2.VideoCapture.read(image=None) -> retval, image\n",
    "        retval : success -> True, Fail -> False\n",
    "        image : current frame (numpy.ndarray)\n",
    "        \n",
    "        # cv2.imwrite(filename, img[, params]) -> retval\n",
    "        filename : image file name(whole path) that extract from video\n",
    "        '''\n",
    "        frame_number = 0\n",
    "        video = cv2.VideoCapture(filename)\n",
    "        retval,image = video.read()\n",
    "        while retval:\n",
    "            cv2.imwrite(out_directory+str(frame_number)+\".jpg\",image)\n",
    "            retval,image = video.read()\n",
    "            frame_number = frame_number+1\n",
    "    except Exception as e:\n",
    "        print(e)\n",
    "    else:\n",
    "        print(\"done\")\n",
    "    finally:\n",
    "        video.release()\n",
    "\n",
    "# function test\n",
    "# filename = 'C:/Python310/vid.mp4'\n",
    "# out_directory = 'C:/Python310/IMAGEPACK/'\n",
    "# video2images(filename,out_directory)"
   ]
  }
 ],
 "metadata": {
  "kernelspec": {
   "display_name": "Python 3 (ipykernel)",
   "language": "python",
   "name": "python3"
  },
  "language_info": {
   "codemirror_mode": {
    "name": "ipython",
    "version": 3
   },
   "file_extension": ".py",
   "mimetype": "text/x-python",
   "name": "python",
   "nbconvert_exporter": "python",
   "pygments_lexer": "ipython3",
   "version": "3.9.7"
  }
 },
 "nbformat": 4,
 "nbformat_minor": 5
}
