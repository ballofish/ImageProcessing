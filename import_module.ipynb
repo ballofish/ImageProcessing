{
 "cells": [
  {
   "cell_type": "code",
   "execution_count": 9,
   "id": "b3473ffb",
   "metadata": {},
   "outputs": [
    {
     "name": "stdout",
     "output_type": "stream",
     "text": [
      "[608.0, 1080.0, 30.0, 'avc1', 636.0, 21.2]\n"
     ]
    }
   ],
   "source": [
    "\"\"\"\n",
    "import .ipynb\n",
    "\"\"\"\n",
    "# find workspace\n",
    "# import sys\n",
    "# for i in sys.path:\n",
    "#  print(i)\n",
    "\n",
    "#!pip install import_ipynb\n",
    "import import_ipynb\n",
    "import IP_1_video_property as vp\n",
    "filename = 'C:/Python310/vid.mp4'\n",
    "print(vp.video_property(filename))"
   ]
  }
 ],
 "metadata": {
  "kernelspec": {
   "display_name": "Python 3 (ipykernel)",
   "language": "python",
   "name": "python3"
  },
  "language_info": {
   "codemirror_mode": {
    "name": "ipython",
    "version": 3
   },
   "file_extension": ".py",
   "mimetype": "text/x-python",
   "name": "python",
   "nbconvert_exporter": "python",
   "pygments_lexer": "ipython3",
   "version": "3.9.7"
  }
 },
 "nbformat": 4,
 "nbformat_minor": 5
}
